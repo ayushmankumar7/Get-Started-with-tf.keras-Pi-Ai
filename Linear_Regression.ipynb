{
  "nbformat": 4,
  "nbformat_minor": 0,
  "metadata": {
    "colab": {
      "name": "Linear Regression.ipynb",
      "provenance": [],
      "collapsed_sections": [],
      "authorship_tag": "ABX9TyMCGGCs5q1caq7ngXAmhXhy",
      "include_colab_link": true
    },
    "kernelspec": {
      "name": "python3",
      "display_name": "Python 3"
    }
  },
  "cells": [
    {
      "cell_type": "markdown",
      "metadata": {
        "id": "view-in-github",
        "colab_type": "text"
      },
      "source": [
        "<a href=\"https://colab.research.google.com/github/ayushmankumar7/Get-Started-with-tf.keras-Pi-Ai/blob/master/Linear_Regression.ipynb\" target=\"_parent\"><img src=\"https://colab.research.google.com/assets/colab-badge.svg\" alt=\"Open In Colab\"/></a>"
      ]
    },
    {
      "cell_type": "code",
      "metadata": {
        "id": "2-jaExBZNu7l",
        "colab_type": "code",
        "colab": {
          "base_uri": "https://localhost:8080/",
          "height": 357
        },
        "outputId": "440e844c-201a-4c4d-bcd8-1944c03faf13"
      },
      "source": [
        "!nvidia-smi"
      ],
      "execution_count": null,
      "outputs": [
        {
          "output_type": "stream",
          "text": [
            "Fri Jun 19 06:15:43 2020       \n",
            "+-----------------------------------------------------------------------------+\n",
            "| NVIDIA-SMI 450.36.06    Driver Version: 418.67       CUDA Version: 10.1     |\n",
            "|-------------------------------+----------------------+----------------------+\n",
            "| GPU  Name        Persistence-M| Bus-Id        Disp.A | Volatile Uncorr. ECC |\n",
            "| Fan  Temp  Perf  Pwr:Usage/Cap|         Memory-Usage | GPU-Util  Compute M. |\n",
            "|                               |                      |               MIG M. |\n",
            "|===============================+======================+======================|\n",
            "|   0  Tesla P4            Off  | 00000000:00:04.0 Off |                    0 |\n",
            "| N/A   50C    P8     8W /  75W |      0MiB /  7611MiB |      0%      Default |\n",
            "|                               |                      |                 ERR! |\n",
            "+-------------------------------+----------------------+----------------------+\n",
            "                                                                               \n",
            "+-----------------------------------------------------------------------------+\n",
            "| Processes:                                                                  |\n",
            "|  GPU   GI   CI        PID   Type   Process name                  GPU Memory |\n",
            "|        ID   ID                                                   Usage      |\n",
            "|=============================================================================|\n",
            "|  No running processes found                                                 |\n",
            "+-----------------------------------------------------------------------------+\n"
          ],
          "name": "stdout"
        }
      ]
    },
    {
      "cell_type": "code",
      "metadata": {
        "id": "F7fvI26GUjQi",
        "colab_type": "code",
        "colab": {}
      },
      "source": [
        "import tensorflow as tf \n",
        "\n",
        "\n",
        "import numpy as np \n",
        "import matplotlib.pyplot as plt"
      ],
      "execution_count": null,
      "outputs": []
    },
    {
      "cell_type": "markdown",
      "metadata": {
        "id": "ZBgTdnqSUxj0",
        "colab_type": "text"
      },
      "source": [
        "Let's replicate an equation :   **y = 2x+6** with some noise."
      ]
    },
    {
      "cell_type": "code",
      "metadata": {
        "id": "icxd1D6dUuVW",
        "colab_type": "code",
        "colab": {
          "base_uri": "https://localhost:8080/",
          "height": 51
        },
        "outputId": "f0646524-ab65-494b-b441-33687fe13fb2"
      },
      "source": [
        "# Input X\n",
        "x = np.array([i for i in range(60)])\n",
        "\n",
        "# Output Y\n",
        "y = np.array([  (2*i)+6 + np.random.randint(-10,10)  for i in range(60) ])\n",
        "\n",
        "print(x[:10])\n",
        "print(y[:10])"
      ],
      "execution_count": null,
      "outputs": [
        {
          "output_type": "stream",
          "text": [
            "[0 1 2 3 4 5 6 7 8 9]\n",
            "[ 0  9  4  9  5  7 17 21 31 32]\n"
          ],
          "name": "stdout"
        }
      ]
    },
    {
      "cell_type": "code",
      "metadata": {
        "id": "FjuRcPEBVVzj",
        "colab_type": "code",
        "colab": {
          "base_uri": "https://localhost:8080/",
          "height": 282
        },
        "outputId": "60b5fa7d-19e4-4f59-bfd5-d01e1f40978f"
      },
      "source": [
        "plt.scatter(x,y)"
      ],
      "execution_count": null,
      "outputs": [
        {
          "output_type": "execute_result",
          "data": {
            "text/plain": [
              "<matplotlib.collections.PathCollection at 0x7f2c428efac8>"
            ]
          },
          "metadata": {
            "tags": []
          },
          "execution_count": 37
        },
        {
          "output_type": "display_data",
          "data": {
            "image/png": "[encoded data removed]",
            "text/plain": [
              "<Figure size 432x288 with 1 Axes>"
            ]
          },
          "metadata": {
            "tags": [],
            "needs_background": "light"
          }
        }
      ]
    },
    {
      "cell_type": "markdown",
      "metadata": {
        "id": "V2anNnugVxXA",
        "colab_type": "text"
      },
      "source": [
        "**So our Data is ready**\n",
        "Let's  build our model <br>\n",
        "\n",
        "Here we are using  <b> Sequential Model </b>  (Beginner Friendly) \n",
        "\n",
        "\n",
        "\n",
        "\n",
        "\n"
      ]
    },
    {
      "cell_type": "code",
      "metadata": {
        "id": "ruOVwaW2VYkw",
        "colab_type": "code",
        "colab": {}
      },
      "source": [
        "model = tf.keras.models.Sequential()"
      ],
      "execution_count": null,
      "outputs": []
    },
    {
      "cell_type": "markdown",
      "metadata": {
        "id": "ACM8gj3NXIy9",
        "colab_type": "text"
      },
      "source": [
        "Add our Dense Layer  with unit = 1"
      ]
    },
    {
      "cell_type": "code",
      "metadata": {
        "id": "mVl5yjlgWBcf",
        "colab_type": "code",
        "colab": {}
      },
      "source": [
        "model.add(  tf.keras.layers.Dense(10)  )\n",
        "model.add( tf.keras.layers.Dense(1) )"
      ],
      "execution_count": null,
      "outputs": []
    },
    {
      "cell_type": "markdown",
      "metadata": {
        "id": "PG9BsnyIXP9h",
        "colab_type": "text"
      },
      "source": [
        "Now we need to compile our model. <br>\n",
        "Here, we specify our <b> Loss Function </b> and our <b>Optimizer </b>. <br>\n",
        "We can also specify our <b> Metrics</b>"
      ]
    },
    {
      "cell_type": "code",
      "metadata": {
        "id": "q3xMud88WIVP",
        "colab_type": "code",
        "colab": {}
      },
      "source": [
        "model.compile( \n",
        "    loss = 'mse',\n",
        "    optimizer = 'adam'\n",
        " )"
      ],
      "execution_count": null,
      "outputs": []
    },
    {
      "cell_type": "code",
      "metadata": {
        "id": "MVEiDiXyXGPI",
        "colab_type": "code",
        "colab": {
          "base_uri": "https://localhost:8080/",
          "height": 1000
        },
        "outputId": "3a88ce0f-e228-46e7-f203-b93446dc342e"
      },
      "source": [
        "history = model.fit( x, y, epochs= 160 )"
      ],
      "execution_count": null,
      "outputs": [
        {
          "output_type": "stream",
          "text": [
            "Epoch 1/160\n",
            "2/2 [==============================] - 0s 1ms/step - loss: 2632.5061\n",
            "Epoch 2/160\n",
            "2/2 [==============================] - 0s 2ms/step - loss: 2585.6082\n",
            "Epoch 3/160\n",
            "2/2 [==============================] - 0s 2ms/step - loss: 2538.8860\n",
            "Epoch 4/160\n",
            "2/2 [==============================] - 0s 2ms/step - loss: 2490.8254\n",
            "Epoch 5/160\n",
            "2/2 [==============================] - 0s 3ms/step - loss: 2444.6118\n",
            "Epoch 6/160\n",
            "2/2 [==============================] - 0s 2ms/step - loss: 2396.5850\n",
            "Epoch 7/160\n",
            "2/2 [==============================] - 0s 2ms/step - loss: 2352.6182\n",
            "Epoch 8/160\n",
            "2/2 [==============================] - 0s 2ms/step - loss: 2307.2427\n",
            "Epoch 9/160\n",
            "2/2 [==============================] - 0s 2ms/step - loss: 2259.0657\n",
            "Epoch 10/160\n",
            "2/2 [==============================] - 0s 2ms/step - loss: 2215.4639\n",
            "Epoch 11/160\n",
            "2/2 [==============================] - 0s 2ms/step - loss: 2169.5659\n",
            "Epoch 12/160\n",
            "2/2 [==============================] - 0s 2ms/step - loss: 2125.5435\n",
            "Epoch 13/160\n",
            "2/2 [==============================] - 0s 2ms/step - loss: 2080.9771\n",
            "Epoch 14/160\n",
            "2/2 [==============================] - 0s 2ms/step - loss: 2036.1971\n",
            "Epoch 15/160\n",
            "2/2 [==============================] - 0s 2ms/step - loss: 1994.3771\n",
            "Epoch 16/160\n",
            "2/2 [==============================] - 0s 2ms/step - loss: 1950.5330\n",
            "Epoch 17/160\n",
            "2/2 [==============================] - 0s 2ms/step - loss: 1907.4232\n",
            "Epoch 18/160\n",
            "2/2 [==============================] - 0s 2ms/step - loss: 1865.6775\n",
            "Epoch 19/160\n",
            "2/2 [==============================] - 0s 2ms/step - loss: 1822.6718\n",
            "Epoch 20/160\n",
            "2/2 [==============================] - 0s 2ms/step - loss: 1782.1479\n",
            "Epoch 21/160\n",
            "2/2 [==============================] - 0s 2ms/step - loss: 1741.4851\n",
            "Epoch 22/160\n",
            "2/2 [==============================] - 0s 1ms/step - loss: 1700.9575\n",
            "Epoch 23/160\n",
            "2/2 [==============================] - 0s 2ms/step - loss: 1660.4003\n",
            "Epoch 24/160\n",
            "2/2 [==============================] - 0s 2ms/step - loss: 1618.8719\n",
            "Epoch 25/160\n",
            "2/2 [==============================] - 0s 2ms/step - loss: 1580.1711\n",
            "Epoch 26/160\n",
            "2/2 [==============================] - 0s 2ms/step - loss: 1540.6576\n",
            "Epoch 27/160\n",
            "2/2 [==============================] - 0s 2ms/step - loss: 1501.6719\n",
            "Epoch 28/160\n",
            "2/2 [==============================] - 0s 2ms/step - loss: 1465.1792\n",
            "Epoch 29/160\n",
            "2/2 [==============================] - 0s 2ms/step - loss: 1428.2612\n",
            "Epoch 30/160\n",
            "2/2 [==============================] - 0s 2ms/step - loss: 1390.7849\n",
            "Epoch 31/160\n",
            "2/2 [==============================] - 0s 2ms/step - loss: 1355.2550\n",
            "Epoch 32/160\n",
            "2/2 [==============================] - 0s 2ms/step - loss: 1318.9802\n",
            "Epoch 33/160\n",
            "2/2 [==============================] - 0s 3ms/step - loss: 1285.2615\n",
            "Epoch 34/160\n",
            "2/2 [==============================] - 0s 3ms/step - loss: 1248.5432\n",
            "Epoch 35/160\n",
            "2/2 [==============================] - 0s 2ms/step - loss: 1213.0284\n",
            "Epoch 36/160\n",
            "2/2 [==============================] - 0s 2ms/step - loss: 1179.6252\n",
            "Epoch 37/160\n",
            "2/2 [==============================] - 0s 2ms/step - loss: 1147.7268\n",
            "Epoch 38/160\n",
            "2/2 [==============================] - 0s 2ms/step - loss: 1113.9095\n",
            "Epoch 39/160\n",
            "2/2 [==============================] - 0s 2ms/step - loss: 1083.0865\n",
            "Epoch 40/160\n",
            "2/2 [==============================] - 0s 2ms/step - loss: 1049.0178\n",
            "Epoch 41/160\n",
            "2/2 [==============================] - 0s 2ms/step - loss: 1019.2703\n",
            "Epoch 42/160\n",
            "2/2 [==============================] - 0s 2ms/step - loss: 988.5228\n",
            "Epoch 43/160\n",
            "2/2 [==============================] - 0s 2ms/step - loss: 957.8590\n",
            "Epoch 44/160\n",
            "2/2 [==============================] - 0s 2ms/step - loss: 928.9680\n",
            "Epoch 45/160\n",
            "2/2 [==============================] - 0s 2ms/step - loss: 901.1945\n",
            "Epoch 46/160\n",
            "2/2 [==============================] - 0s 2ms/step - loss: 872.6940\n",
            "Epoch 47/160\n",
            "2/2 [==============================] - 0s 2ms/step - loss: 844.2782\n",
            "Epoch 48/160\n",
            "2/2 [==============================] - 0s 3ms/step - loss: 816.2312\n",
            "Epoch 49/160\n",
            "2/2 [==============================] - 0s 2ms/step - loss: 790.5721\n",
            "Epoch 50/160\n",
            "2/2 [==============================] - 0s 2ms/step - loss: 764.5084\n",
            "Epoch 51/160\n",
            "2/2 [==============================] - 0s 1ms/step - loss: 739.2396\n",
            "Epoch 52/160\n",
            "2/2 [==============================] - 0s 3ms/step - loss: 714.4435\n",
            "Epoch 53/160\n",
            "2/2 [==============================] - 0s 2ms/step - loss: 688.8536\n",
            "Epoch 54/160\n",
            "2/2 [==============================] - 0s 3ms/step - loss: 665.7924\n",
            "Epoch 55/160\n",
            "2/2 [==============================] - 0s 1ms/step - loss: 641.8933\n",
            "Epoch 56/160\n",
            "2/2 [==============================] - 0s 2ms/step - loss: 618.9986\n",
            "Epoch 57/160\n",
            "2/2 [==============================] - 0s 2ms/step - loss: 596.6237\n",
            "Epoch 58/160\n",
            "2/2 [==============================] - 0s 2ms/step - loss: 575.4159\n",
            "Epoch 59/160\n",
            "2/2 [==============================] - 0s 2ms/step - loss: 553.6798\n",
            "Epoch 60/160\n",
            "2/2 [==============================] - 0s 2ms/step - loss: 534.6865\n",
            "Epoch 61/160\n",
            "2/2 [==============================] - 0s 2ms/step - loss: 514.6217\n",
            "Epoch 62/160\n",
            "2/2 [==============================] - 0s 2ms/step - loss: 494.4009\n",
            "Epoch 63/160\n",
            "2/2 [==============================] - 0s 2ms/step - loss: 476.9456\n",
            "Epoch 64/160\n",
            "2/2 [==============================] - 0s 2ms/step - loss: 457.7033\n",
            "Epoch 65/160\n",
            "2/2 [==============================] - 0s 2ms/step - loss: 439.9894\n",
            "Epoch 66/160\n",
            "2/2 [==============================] - 0s 2ms/step - loss: 421.3590\n",
            "Epoch 67/160\n",
            "2/2 [==============================] - 0s 2ms/step - loss: 405.1686\n",
            "Epoch 68/160\n",
            "2/2 [==============================] - 0s 3ms/step - loss: 389.5704\n",
            "Epoch 69/160\n",
            "2/2 [==============================] - 0s 3ms/step - loss: 372.8640\n",
            "Epoch 70/160\n",
            "2/2 [==============================] - 0s 2ms/step - loss: 357.9459\n",
            "Epoch 71/160\n",
            "2/2 [==============================] - 0s 5ms/step - loss: 343.5801\n",
            "Epoch 72/160\n",
            "2/2 [==============================] - 0s 6ms/step - loss: 329.0218\n",
            "Epoch 73/160\n",
            "2/2 [==============================] - 0s 2ms/step - loss: 315.1709\n",
            "Epoch 74/160\n",
            "2/2 [==============================] - 0s 2ms/step - loss: 302.3113\n",
            "Epoch 75/160\n",
            "2/2 [==============================] - 0s 2ms/step - loss: 288.9637\n",
            "Epoch 76/160\n",
            "2/2 [==============================] - 0s 2ms/step - loss: 276.2926\n",
            "Epoch 77/160\n",
            "2/2 [==============================] - 0s 2ms/step - loss: 265.0307\n",
            "Epoch 78/160\n",
            "2/2 [==============================] - 0s 2ms/step - loss: 252.5151\n",
            "Epoch 79/160\n",
            "2/2 [==============================] - 0s 3ms/step - loss: 241.7050\n",
            "Epoch 80/160\n",
            "2/2 [==============================] - 0s 2ms/step - loss: 231.1805\n",
            "Epoch 81/160\n",
            "2/2 [==============================] - 0s 2ms/step - loss: 221.1624\n",
            "Epoch 82/160\n",
            "2/2 [==============================] - 0s 2ms/step - loss: 211.1663\n",
            "Epoch 83/160\n",
            "2/2 [==============================] - 0s 2ms/step - loss: 201.3573\n",
            "Epoch 84/160\n",
            "2/2 [==============================] - 0s 2ms/step - loss: 192.7560\n",
            "Epoch 85/160\n",
            "2/2 [==============================] - 0s 2ms/step - loss: 184.2268\n",
            "Epoch 86/160\n",
            "2/2 [==============================] - 0s 2ms/step - loss: 175.3686\n",
            "Epoch 87/160\n",
            "2/2 [==============================] - 0s 2ms/step - loss: 167.7305\n",
            "Epoch 88/160\n",
            "2/2 [==============================] - 0s 1ms/step - loss: 159.3354\n",
            "Epoch 89/160\n",
            "2/2 [==============================] - 0s 2ms/step - loss: 152.3102\n",
            "Epoch 90/160\n",
            "2/2 [==============================] - 0s 1ms/step - loss: 145.6326\n",
            "Epoch 91/160\n",
            "2/2 [==============================] - 0s 2ms/step - loss: 138.7968\n",
            "Epoch 92/160\n",
            "2/2 [==============================] - 0s 2ms/step - loss: 132.4795\n",
            "Epoch 93/160\n",
            "2/2 [==============================] - 0s 2ms/step - loss: 126.4560\n",
            "Epoch 94/160\n",
            "2/2 [==============================] - 0s 2ms/step - loss: 120.7934\n",
            "Epoch 95/160\n",
            "2/2 [==============================] - 0s 1ms/step - loss: 115.2699\n",
            "Epoch 96/160\n",
            "2/2 [==============================] - 0s 2ms/step - loss: 110.1224\n",
            "Epoch 97/160\n",
            "2/2 [==============================] - 0s 2ms/step - loss: 105.1438\n",
            "Epoch 98/160\n",
            "2/2 [==============================] - 0s 2ms/step - loss: 100.0901\n",
            "Epoch 99/160\n",
            "2/2 [==============================] - 0s 2ms/step - loss: 95.8882\n",
            "Epoch 100/160\n",
            "2/2 [==============================] - 0s 2ms/step - loss: 91.7426\n",
            "Epoch 101/160\n",
            "2/2 [==============================] - 0s 2ms/step - loss: 87.7898\n",
            "Epoch 102/160\n",
            "2/2 [==============================] - 0s 2ms/step - loss: 83.8527\n",
            "Epoch 103/160\n",
            "2/2 [==============================] - 0s 2ms/step - loss: 80.2615\n",
            "Epoch 104/160\n",
            "2/2 [==============================] - 0s 3ms/step - loss: 76.8965\n",
            "Epoch 105/160\n",
            "2/2 [==============================] - 0s 2ms/step - loss: 73.7760\n",
            "Epoch 106/160\n",
            "2/2 [==============================] - 0s 2ms/step - loss: 70.7282\n",
            "Epoch 107/160\n",
            "2/2 [==============================] - 0s 1ms/step - loss: 67.8398\n",
            "Epoch 108/160\n",
            "2/2 [==============================] - 0s 1ms/step - loss: 65.2839\n",
            "Epoch 109/160\n",
            "2/2 [==============================] - 0s 2ms/step - loss: 62.6390\n",
            "Epoch 110/160\n",
            "2/2 [==============================] - 0s 1ms/step - loss: 60.3711\n",
            "Epoch 111/160\n",
            "2/2 [==============================] - 0s 2ms/step - loss: 58.1258\n",
            "Epoch 112/160\n",
            "2/2 [==============================] - 0s 3ms/step - loss: 56.0945\n",
            "Epoch 113/160\n",
            "2/2 [==============================] - 0s 1ms/step - loss: 54.1261\n",
            "Epoch 114/160\n",
            "2/2 [==============================] - 0s 1ms/step - loss: 52.2228\n",
            "Epoch 115/160\n",
            "2/2 [==============================] - 0s 2ms/step - loss: 50.5735\n",
            "Epoch 116/160\n",
            "2/2 [==============================] - 0s 2ms/step - loss: 49.0479\n",
            "Epoch 117/160\n",
            "2/2 [==============================] - 0s 2ms/step - loss: 47.4597\n",
            "Epoch 118/160\n",
            "2/2 [==============================] - 0s 3ms/step - loss: 46.1157\n",
            "Epoch 119/160\n",
            "2/2 [==============================] - 0s 2ms/step - loss: 44.7706\n",
            "Epoch 120/160\n",
            "2/2 [==============================] - 0s 3ms/step - loss: 43.5370\n",
            "Epoch 121/160\n",
            "2/2 [==============================] - 0s 2ms/step - loss: 42.4289\n",
            "Epoch 122/160\n",
            "2/2 [==============================] - 0s 2ms/step - loss: 41.3665\n",
            "Epoch 123/160\n",
            "2/2 [==============================] - 0s 2ms/step - loss: 40.3736\n",
            "Epoch 124/160\n",
            "2/2 [==============================] - 0s 2ms/step - loss: 39.4815\n",
            "Epoch 125/160\n",
            "2/2 [==============================] - 0s 2ms/step - loss: 38.7071\n",
            "Epoch 126/160\n",
            "2/2 [==============================] - 0s 2ms/step - loss: 37.8333\n",
            "Epoch 127/160\n",
            "2/2 [==============================] - 0s 2ms/step - loss: 37.1443\n",
            "Epoch 128/160\n",
            "2/2 [==============================] - 0s 2ms/step - loss: 36.4148\n",
            "Epoch 129/160\n",
            "2/2 [==============================] - 0s 2ms/step - loss: 35.8255\n",
            "Epoch 130/160\n",
            "2/2 [==============================] - 0s 2ms/step - loss: 35.2568\n",
            "Epoch 131/160\n",
            "2/2 [==============================] - 0s 2ms/step - loss: 34.7479\n",
            "Epoch 132/160\n",
            "2/2 [==============================] - 0s 2ms/step - loss: 34.2181\n",
            "Epoch 133/160\n",
            "2/2 [==============================] - 0s 2ms/step - loss: 33.7969\n",
            "Epoch 134/160\n",
            "2/2 [==============================] - 0s 1ms/step - loss: 33.3189\n",
            "Epoch 135/160\n",
            "2/2 [==============================] - 0s 3ms/step - loss: 32.9771\n",
            "Epoch 136/160\n",
            "2/2 [==============================] - 0s 1ms/step - loss: 32.5928\n",
            "Epoch 137/160\n",
            "2/2 [==============================] - 0s 2ms/step - loss: 32.2426\n",
            "Epoch 138/160\n",
            "2/2 [==============================] - 0s 2ms/step - loss: 31.9859\n",
            "Epoch 139/160\n",
            "2/2 [==============================] - 0s 2ms/step - loss: 31.6910\n",
            "Epoch 140/160\n",
            "2/2 [==============================] - 0s 2ms/step - loss: 31.4351\n",
            "Epoch 141/160\n",
            "2/2 [==============================] - 0s 2ms/step - loss: 31.2013\n",
            "Epoch 142/160\n",
            "2/2 [==============================] - 0s 1ms/step - loss: 31.0314\n",
            "Epoch 143/160\n",
            "2/2 [==============================] - 0s 2ms/step - loss: 30.7729\n",
            "Epoch 144/160\n",
            "2/2 [==============================] - 0s 2ms/step - loss: 30.6084\n",
            "Epoch 145/160\n",
            "2/2 [==============================] - 0s 2ms/step - loss: 30.4551\n",
            "Epoch 146/160\n",
            "2/2 [==============================] - 0s 2ms/step - loss: 30.3030\n",
            "Epoch 147/160\n",
            "2/2 [==============================] - 0s 2ms/step - loss: 30.1883\n",
            "Epoch 148/160\n",
            "2/2 [==============================] - 0s 2ms/step - loss: 30.0230\n",
            "Epoch 149/160\n",
            "2/2 [==============================] - 0s 2ms/step - loss: 29.9212\n",
            "Epoch 150/160\n",
            "2/2 [==============================] - 0s 2ms/step - loss: 29.8112\n",
            "Epoch 151/160\n",
            "2/2 [==============================] - 0s 2ms/step - loss: 29.7294\n",
            "Epoch 152/160\n",
            "2/2 [==============================] - 0s 2ms/step - loss: 29.6185\n",
            "Epoch 153/160\n",
            "2/2 [==============================] - 0s 2ms/step - loss: 29.5529\n",
            "Epoch 154/160\n",
            "2/2 [==============================] - 0s 2ms/step - loss: 29.4746\n",
            "Epoch 155/160\n",
            "2/2 [==============================] - 0s 2ms/step - loss: 29.4135\n",
            "Epoch 156/160\n",
            "2/2 [==============================] - 0s 2ms/step - loss: 29.3464\n",
            "Epoch 157/160\n",
            "2/2 [==============================] - 0s 2ms/step - loss: 29.3329\n",
            "Epoch 158/160\n",
            "2/2 [==============================] - 0s 2ms/step - loss: 29.2494\n",
            "Epoch 159/160\n",
            "2/2 [==============================] - 0s 2ms/step - loss: 29.1918\n",
            "Epoch 160/160\n",
            "2/2 [==============================] - 0s 2ms/step - loss: 29.1862\n"
          ],
          "name": "stdout"
        }
      ]
    },
    {
      "cell_type": "code",
      "metadata": {
        "id": "rtycrbFIX3QZ",
        "colab_type": "code",
        "colab": {
          "base_uri": "https://localhost:8080/",
          "height": 282
        },
        "outputId": "01ce94bc-0e49-4638-f6ca-9c538f6f7a97"
      },
      "source": [
        "\n",
        "plt.scatter(x,y)\n",
        "plt.plot(x, model.predict(x), color = 'r')"
      ],
      "execution_count": null,
      "outputs": [
        {
          "output_type": "execute_result",
          "data": {
            "text/plain": [
              "[<matplotlib.lines.Line2D at 0x7f2c46087e48>]"
            ]
          },
          "metadata": {
            "tags": []
          },
          "execution_count": 55
        },
        {
          "output_type": "display_data",
          "data": {
            "image/png": "[encoded data removed]",
            "text/plain": [
              "<Figure size 432x288 with 1 Axes>"
            ]
          },
          "metadata": {
            "tags": [],
            "needs_background": "light"
          }
        }
      ]
    },
    {
      "cell_type": "code",
      "metadata": {
        "id": "9p0boK5OYA2Z",
        "colab_type": "code",
        "colab": {
          "base_uri": "https://localhost:8080/",
          "height": 279
        },
        "outputId": "49eaa630-804f-41d1-a579-a1436e02df05"
      },
      "source": [
        "plt.plot([i for i in range(1, 161)], history.history['loss'])\n",
        "plt.xlabel('Epochs')\n",
        "plt.ylabel('Loss')\n",
        "plt.show()"
      ],
      "execution_count": null,
      "outputs": [
        {
          "output_type": "display_data",
          "data": {
            "image/png": "[encoded data removed]",
            "text/plain": [
              "<Figure size 432x288 with 1 Axes>"
            ]
          },
          "metadata": {
            "tags": [],
            "needs_background": "light"
          }
        }
      ]
    },
    {
      "cell_type": "code",
      "metadata": {
        "id": "N2oYgUCkaV5P",
        "colab_type": "code",
        "colab": {}
      },
      "source": [
        ""
      ],
      "execution_count": null,
      "outputs": []
    }
  ]
}